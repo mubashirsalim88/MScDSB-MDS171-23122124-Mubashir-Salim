{
 "cells": [
  {
   "cell_type": "code",
   "execution_count": 1,
   "metadata": {},
   "outputs": [
    {
     "name": "stdout",
     "output_type": "stream",
     "text": [
      "Order recorded successfully\n"
     ]
    }
   ],
   "source": [
    "def record_order():\n",
    "    customer_name = input('Enter your name: ')\n",
    "    customer_phone = input('Enter phone number: ')\n",
    "    customer_email = input('Enter your email: ')\n",
    "    order_item = input('Enter item: ')\n",
    "    item_qty = int(input('Enter quantity: '))\n",
    "    item_price = float(input('Enter price: '))\n",
    "    order_total = item_qty * item_price\n",
    "\n",
    "    with open('datafile.txt', 'a') as file:  # Use 'a' (append) mode to add orders to the file\n",
    "        file.write(f'Customer name: {customer_name}\\n')\n",
    "        file.write(f'Phone no.: {customer_phone}\\n')\n",
    "        file.write(f'Email: {customer_email}\\n')\n",
    "        file.write(f'Item: {order_item}\\n')\n",
    "        file.write(f'Quantity: {item_qty}\\n')\n",
    "        file.write(f'Price: {item_price}\\n')\n",
    "        file.write(f'Total: {order_total}\\n')\n",
    "        file.write('-' * 30 + '\\n')  # Add a separator for each order\n",
    "\n",
    "    print('Order recorded successfully')\n",
    "\n",
    "\n",
    "def main():\n",
    "    while True:\n",
    "        record_order()\n",
    "        another_order = input('Do you want to record another order? (yes/no): ')\n",
    "        if another_order.lower() != 'yes':\n",
    "            break\n",
    "\n",
    "if __name__ == \"__main__\":\n",
    "    main()\n"
   ]
  }
 ],
 "metadata": {
  "kernelspec": {
   "display_name": "Python 3",
   "language": "python",
   "name": "python3"
  },
  "language_info": {
   "codemirror_mode": {
    "name": "ipython",
    "version": 3
   },
   "file_extension": ".py",
   "mimetype": "text/x-python",
   "name": "python",
   "nbconvert_exporter": "python",
   "pygments_lexer": "ipython3",
   "version": "3.11.4"
  },
  "orig_nbformat": 4
 },
 "nbformat": 4,
 "nbformat_minor": 2
}
