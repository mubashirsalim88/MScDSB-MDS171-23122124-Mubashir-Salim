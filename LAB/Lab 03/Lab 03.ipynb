{
 "cells": [
  {
   "cell_type": "code",
   "execution_count": 8,
   "metadata": {},
   "outputs": [
    {
     "name": "stdout",
     "output_type": "stream",
     "text": [
      "542.94\n",
      "17\n",
      "999\n",
      "982\n"
     ]
    }
   ],
   "source": [
    "values = [761, 123, 585, 275, 194, 840, 999, 622, 763, 40, 825, 687, 402, 338, 611, 987, 739, 95, 819, 568, 320, 126, 688, 948, 514, 223, 751, 379, 857, 767, 492, 162, 437, 934, 430, 343, 725, 511, 580, 678, 708, 823, 346, 179, 786, 663, 195, 890, 267, 502, 214, 300, 786, 961, 235, 559, 992, 919, 948, 318, 57, 787, 653, 317, 305, 172, 966, 182, 970, 17, 89, 624, 629, 595, 485, 752, 984, 978, 460, 124, 321, 256, 614, 852, 811, 561, 127, 207, 406, 615, 888, 391, 691, 470, 911, 401, 137, 600, 478, 682]\n",
    "\n",
    "\n",
    "def my_mean():\n",
    "    total_sum = 0\n",
    "    count = 0\n",
    "    for i in values:\n",
    "        total_sum += i\n",
    "        count += 1\n",
    "        average = total_sum / count\n",
    "    return average \n",
    "\n",
    "def my_min():\n",
    "    min_value = values[0]\n",
    "    for i in values:\n",
    "        if i < min_value:\n",
    "            min_value = i\n",
    "    return min_value \n",
    "   \n",
    "def my_max():\n",
    "    max_value = values[0]\n",
    "    for i in values:\n",
    "        if i > max_value:\n",
    "            max_value = i\n",
    "    return max_value\n",
    "\n",
    "def my_range():\n",
    "    range_value = my_max() - my_min()\n",
    "    return range_value\n",
    "\n",
    "\n",
    "print(my_mean())\n",
    "print(my_min())\n",
    "print(my_max())\n",
    "print(my_range())\n"
   ]
  },
  {
   "cell_type": "code",
   "execution_count": null,
   "metadata": {},
   "outputs": [],
   "source": []
  }
 ],
 "metadata": {
  "kernelspec": {
   "display_name": "Python 3",
   "language": "python",
   "name": "python3"
  },
  "language_info": {
   "codemirror_mode": {
    "name": "ipython",
    "version": 3
   },
   "file_extension": ".py",
   "mimetype": "text/x-python",
   "name": "python",
   "nbconvert_exporter": "python",
   "pygments_lexer": "ipython3",
   "version": "3.11.4"
  },
  "orig_nbformat": 4
 },
 "nbformat": 4,
 "nbformat_minor": 2
}
