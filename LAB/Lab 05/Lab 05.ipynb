{
 "cells": [
  {
   "cell_type": "code",
   "execution_count": 3,
   "metadata": {},
   "outputs": [
    {
     "name": "stdout",
     "output_type": "stream",
     "text": [
      "Vowels:\n",
      "u: 1 (12.5%)\n",
      "a: 4 (50.0%)\n",
      "i: 1 (12.5%)\n",
      "o: 1 (12.5%)\n",
      "e: 1 (12.5%)\n",
      "Percentage of vowels: 44.44444444444444%\n"
     ]
    }
   ],
   "source": [
    "# Function: vowel_counter\n",
    "# Description: This function takes input from user and counts the occurrences of each vowel  in the input string.\n",
    "# It returns a dictionary where keys are vowels and values are their respective counts.\n",
    "\n",
    "def vowel_counter():\n",
    "  user_input = input(\"Enter a string: \")        # Take input from user.\n",
    "  vowels = \"a e i o u\"                          # Define a variable in which all vowels are present.\n",
    "  vowel_count = {}                              # Define empty dictionary to store the vowel counts.\n",
    "\n",
    "\n",
    "# Loop to each character in the user's input .\n",
    "  for i in user_input:\n",
    "    if i in vowels:                             # Check if the character is a vowel.\n",
    "      if i in vowel_count:                      # If the vowel is already in the dictionary, increment its count.\n",
    "        vowel_count[i] += 1\n",
    "      else:                                     # If the vowel is not in the dictionary, add it with a count of 1.\n",
    "        vowel_count[i] = 1\n",
    "\n",
    "  # Calculate the percentage of vowels\n",
    "  total_vowels = sum(vowel_count.values())\n",
    "  percentage_vowels = (total_vowels / len(user_input)) * 100\n",
    "\n",
    "  # Print the results\n",
    "  print(\"Vowels:\")\n",
    "  for vowel, count in vowel_count.items():\n",
    "    print(f\"{vowel}: {count} ({round(count / total_vowels * 100, 2)}%)\")\n",
    "  print(f\"Percentage of vowels: {percentage_vowels}%\")\n",
    "\n",
    "vowel_counter()                                 # Call the function\n"
   ]
  }
 ],
 "metadata": {
  "kernelspec": {
   "display_name": "Python 3",
   "language": "python",
   "name": "python3"
  },
  "language_info": {
   "codemirror_mode": {
    "name": "ipython",
    "version": 3
   },
   "file_extension": ".py",
   "mimetype": "text/x-python",
   "name": "python",
   "nbconvert_exporter": "python",
   "pygments_lexer": "ipython3",
   "version": "3.11.4"
  },
  "orig_nbformat": 4
 },
 "nbformat": 4,
 "nbformat_minor": 2
}
