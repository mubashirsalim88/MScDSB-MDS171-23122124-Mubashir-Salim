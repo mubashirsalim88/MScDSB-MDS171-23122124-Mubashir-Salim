{
 "cells": [
  {
   "cell_type": "code",
   "execution_count": 17,
   "metadata": {},
   "outputs": [],
   "source": [
    "import classPetname"
   ]
  },
  {
   "cell_type": "code",
   "execution_count": 18,
   "metadata": {},
   "outputs": [],
   "source": [
    "def main():\n",
    "    pets = classPetname.Petstore()\n",
    "    while True:\n",
    "        print(\"-------Your Choices --------------\")\n",
    "        print(\"1. Admin Pannel      2. Customer Section\")\n",
    "        print(\"3. Exit Order\")\n",
    "        user_choice = int(input(\"Enter the user Choice: \"))\n",
    "\n",
    "        if user_choice == 1:\n",
    "            print(\"You Are in admin Pannel!!\")\n",
    "            psw = input(\"Enter the Password To Access: \")\n",
    "\n",
    "            if psw == \"mubashir\":\n",
    "                while True:\n",
    "                    print(\"-------Your Choices --------------\")\n",
    "                    print(\"1. Add Pet       2. View Pet\")\n",
    "                    print(\"3. Exit\")\n",
    "                    user_input = int(input(\"Enter the user Choice: \"))\n",
    "                    if user_input == 1:\n",
    "                        print(\"Adding the Pet in the Store!!\")\n",
    "                        pet_name = input(\"Enter the Pet Name: \")\n",
    "                        age = int(input(\"Enter The Pet Age: \"))\n",
    "                        breed = input(\"Enter the Breed: \")\n",
    "                        pets.add_pet(pet_name, age, breed)\n",
    "                    elif user_input == 2:\n",
    "                        print(\"Now You Viewing All The Pets: \")\n",
    "                        pets.view_pet()\n",
    "                    elif user_input == 3:\n",
    "                        print(\"Exitting....\")\n",
    "                        break\n",
    "\n",
    "            else:\n",
    "                print(\"OOPS your Password is Wrong!!\")\n",
    "\n",
    "        elif user_choice == 2:\n",
    "            while True:\n",
    "                print(\"This is The Customer Section of the Store!!\")\n",
    "                print(\"1. Search Pets       2. View Pets\")\n",
    "                print(\"3. Buy Pets        4. Exit\")\n",
    "\n",
    "                user_input = int(input(\"Enter the user Choice: \"))\n",
    "                if user_input == 1:\n",
    "                    change = (\n",
    "                        input(\"Search By Which Method(Name / Pet ID): \").strip().lower()\n",
    "                    )\n",
    "                    if change == \"name\":\n",
    "                        pet_data = input(\"Enter the Pet Name: \")\n",
    "                    elif change == \"petid\":\n",
    "                        pet_data = input(\"Enter the Pet ID: \")\n",
    "                    pets.search_pet(pet_data)\n",
    "\n",
    "                elif user_input == 2:\n",
    "                    print(\"Now You Viewing All The Pets: \")\n",
    "                    pets.view_pet()\n",
    "\n",
    "                elif user_input == 3:\n",
    "                    change = (\n",
    "                        input(\"SELL PET By Which Method(Name / Pet ID): \")\n",
    "                        .strip()\n",
    "                        .lower()\n",
    "                    )\n",
    "                    if change == \"name\":\n",
    "                        pet_data = input(\"Enter the Pet Name: \")\n",
    "                    elif change == \"petid\":\n",
    "                        pet_data = input(\"Enter the Pet ID: \")\n",
    "                    pets.sell_pet(pet_data)\n",
    "\n",
    "                elif user_input == 4:\n",
    "                    print(\"Exitting...\")\n",
    "                    break\n",
    "        elif user_choice == 3:\n",
    "            print(\"Exitting...\")\n",
    "            break\n",
    "\n",
    "        else:\n",
    "            print(\"INVALID CHOICE!!!\")\n",
    "\n"
   ]
  },
  {
   "cell_type": "code",
   "execution_count": 19,
   "metadata": {},
   "outputs": [
    {
     "name": "stdout",
     "output_type": "stream",
     "text": [
      "-------Your Choices --------------\n",
      "1. Admin Pannel      2. Customer Section\n",
      "3. Exit Order\n",
      "You Are in admin Pannel!!\n",
      "-------Your Choices --------------\n",
      "1. Add Pet       2. View Pet\n",
      "3. Exit\n",
      "Adding the Pet in the Store!!\n",
      "Your Pet Name: Anurag with Pet_id: 69456 is Successfully Added\n",
      "[{'PetId': '69456', 'PetName': 'Anurag', 'age': 25, 'breed': 'abc', 'Sale': 'Available'}]\n",
      "-------Your Choices --------------\n",
      "1. Add Pet       2. View Pet\n",
      "3. Exit\n",
      "Exitting....\n",
      "-------Your Choices --------------\n",
      "1. Admin Pannel      2. Customer Section\n",
      "3. Exit Order\n",
      "Exitting...\n"
     ]
    }
   ],
   "source": [
    "main()"
   ]
  }
 ],
 "metadata": {
  "kernelspec": {
   "display_name": "Python 3",
   "language": "python",
   "name": "python3"
  },
  "language_info": {
   "codemirror_mode": {
    "name": "ipython",
    "version": 3
   },
   "file_extension": ".py",
   "mimetype": "text/x-python",
   "name": "python",
   "nbconvert_exporter": "python",
   "pygments_lexer": "ipython3",
   "version": "3.11.4"
  }
 },
 "nbformat": 4,
 "nbformat_minor": 2
}
