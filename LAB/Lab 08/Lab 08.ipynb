{
 "cells": [
  {
   "cell_type": "code",
   "execution_count": 1,
   "metadata": {},
   "outputs": [],
   "source": [
    "class Stack:\n",
    "    def __init__(self):\n",
    "        self.items = []\n",
    "\n",
    "    def push(self, item):\n",
    "        self.items.append(item)\n",
    "\n",
    "    def pop(self):\n",
    "        if not self.is_empty():\n",
    "            return self.items.pop()\n",
    "        else:\n",
    "            return None  # Return None if the stack is empty\n",
    "\n",
    "    def print_stack(self):\n",
    "        print(self.items)\n",
    "\n",
    "    def size(self):\n",
    "        return len(self.items)\n",
    "\n",
    "    def top(self):\n",
    "        if not self.is_empty():\n",
    "            return self.items[-1]\n",
    "        else:\n",
    "            return None  # Return None if the stack is empty\n",
    "\n",
    "    def is_empty(self):\n",
    "        return len(self.items) == 0"
   ]
  },
  {
   "cell_type": "code",
   "execution_count": 2,
   "metadata": {},
   "outputs": [
    {
     "name": "stdout",
     "output_type": "stream",
     "text": [
      "Stack:\n",
      "[1, 2, 3]\n",
      "Size of Stack: 3\n",
      "Top item: 3\n",
      "Popped item: 3\n",
      "Stack after popping:\n",
      "[1, 2]\n",
      "Is the stack empty? False\n"
     ]
    }
   ],
   "source": [
    "# Example usage:\n",
    "stack = Stack()\n",
    "stack.push(1)\n",
    "stack.push(2)\n",
    "stack.push(3)\n",
    "\n",
    "print(\"Stack:\")\n",
    "stack.print_stack()\n",
    "\n",
    "print(\"Size of Stack:\", stack.size())\n",
    "print(\"Top item:\", stack.top())\n",
    "\n",
    "print(\"Popped item:\", stack.pop())\n",
    "print(\"Stack after popping:\")\n",
    "stack.print_stack()\n",
    "\n",
    "print(\"Is the stack empty?\", stack.is_empty())"
   ]
  }
 ],
 "metadata": {
  "kernelspec": {
   "display_name": "Python 3",
   "language": "python",
   "name": "python3"
  },
  "language_info": {
   "codemirror_mode": {
    "name": "ipython",
    "version": 3
   },
   "file_extension": ".py",
   "mimetype": "text/x-python",
   "name": "python",
   "nbconvert_exporter": "python",
   "pygments_lexer": "ipython3",
   "version": "3.11.4"
  }
 },
 "nbformat": 4,
 "nbformat_minor": 2
}
