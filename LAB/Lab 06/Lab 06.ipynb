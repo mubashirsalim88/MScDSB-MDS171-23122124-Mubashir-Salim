{
 "cells": [
  {
   "cell_type": "code",
   "execution_count": 36,
   "metadata": {},
   "outputs": [],
   "source": [
    "Item = [\"Apple\",\"Banana\",\"Orange\",\"Egg\",\"Grapes\",\"Tomato\",\"Potato\",\"Onion\",\"Lemon\",\"Mango\"]\n",
    "Quantity = [1,2,3,4,5,6,7,8,9,10]\n",
    "Price = [30,45,25,55,60,50,70,80,100,75]\n",
    "\n",
    "import random\n",
    "\n",
    "with open('23122124.csv','w+') as file:\n",
    "    for i in range(0,100):\n",
    "        r1 = random.randint(0,9)\n",
    "        r2 = random.randint(0,9)\n",
    "        r3 = random.randint(0,9)\n",
    "        total = str(Quantity[r2] * Price[r3])\n",
    "        res = Item[r1]+\",\"+str(Quantity[r2])+\",\"+str(Price[r3])+\" : \"+total\n",
    "        file.write(res+\"\\n\")\n"
   ]
  },
  {
   "cell_type": "code",
   "execution_count": 40,
   "metadata": {},
   "outputs": [
    {
     "name": "stdout",
     "output_type": "stream",
     "text": [
      "First five rows are: \n",
      "\n",
      "Banana,10,50 : 500\n",
      "\n",
      "Onion,2,75 : 150\n",
      "\n",
      "Potato,6,75 : 450\n",
      "\n",
      "Orange,9,75 : 675\n",
      "\n",
      "Egg,10,45 : 450\n",
      "\n",
      "Last 10 rows are: \n",
      "\n",
      "Onion,2,60 : 120\n",
      "\n",
      "Tomato,6,80 : 480\n",
      "\n",
      "Onion,2,45 : 90\n",
      "\n",
      "Tomato,7,55 : 385\n",
      "\n",
      "Mango,4,60 : 240\n",
      "\n",
      "Onion,3,45 : 135\n",
      "\n",
      "Orange,6,50 : 300\n",
      "\n",
      "Tomato,9,70 : 630\n",
      "\n",
      "Onion,4,70 : 280\n",
      "\n",
      "Potato,10,75 : 750\n",
      "\n"
     ]
    }
   ],
   "source": [
    "# Print first 5 rows\n",
    "with open(\"23122124.csv\",\"r\") as file:\n",
    "    print(\"First five rows are: \\n\")\n",
    "    for i in range(5):\n",
    "        line = file.readline()\n",
    "        print(line)\n",
    "\n",
    "# Print last 10 rows\n",
    "with open(\"23122124.csv\",\"r\") as file:\n",
    "    print(\"Last 10 rows are: \\n\")\n",
    "    lines = file.readlines()\n",
    "    totallines = len(lines)\n",
    "    for x in range(totallines-11, totallines-1):\n",
    "        l=lines[x]\n",
    "        print(l)\n"
   ]
  },
  {
   "cell_type": "code",
   "execution_count": 41,
   "metadata": {},
   "outputs": [
    {
     "ename": "NameError",
     "evalue": "name 'm' is not defined",
     "output_type": "error",
     "traceback": [
      "\u001b[1;31m---------------------------------------------------------------------------\u001b[0m",
      "\u001b[1;31mNameError\u001b[0m                                 Traceback (most recent call last)",
      "\u001b[1;32mc:\\Users\\Mubashir\\Desktop\\MSDS - Python\\Github\\MScDSB-MDS171-23122124-Mubashir-Salim\\Lab 06\\Lab 06.ipynb Cell 3\u001b[0m line \u001b[0;36m1\n\u001b[0;32m     <a href='vscode-notebook-cell:/c%3A/Users/Mubashir/Desktop/MSDS%20-%20Python/Github/MScDSB-MDS171-23122124-Mubashir-Salim/Lab%2006/Lab%2006.ipynb#W2sZmlsZQ%3D%3D?line=9'>10</a>\u001b[0m         m \u001b[39m=\u001b[39m \u001b[39mmax\u001b[39m(Price)\n\u001b[0;32m     <a href='vscode-notebook-cell:/c%3A/Users/Mubashir/Desktop/MSDS%20-%20Python/Github/MScDSB-MDS171-23122124-Mubashir-Salim/Lab%2006/Lab%2006.ipynb#W2sZmlsZQ%3D%3D?line=10'>11</a>\u001b[0m         v \u001b[39m=\u001b[39m \u001b[39mmin\u001b[39m(Price)\n\u001b[1;32m---> <a href='vscode-notebook-cell:/c%3A/Users/Mubashir/Desktop/MSDS%20-%20Python/Github/MScDSB-MDS171-23122124-Mubashir-Salim/Lab%2006/Lab%2006.ipynb#W2sZmlsZQ%3D%3D?line=12'>13</a>\u001b[0m \u001b[39mprint\u001b[39m(t1[\u001b[39m0\u001b[39m],count,m,v,sum_bill)\n",
      "\u001b[1;31mNameError\u001b[0m: name 'm' is not defined"
     ]
    }
   ],
   "source": [
    "# Total details with max and min\n",
    "count = 0\n",
    "sum_bill = 0\n",
    "with open(\"23122124.csv\",\"r\") as file:\n",
    "    for line in file.readlines():\n",
    "        t1 = line.strip().split('\\t')\n",
    "        if t1[0] == \"strings\" :\n",
    "            count = count + 1\n",
    "            sum_bill = sum_bill + int(bill)\n",
    "            m = max(Price)\n",
    "            v = min(Price)\n",
    "\n",
    "    print(t1[0],count,m,v,sum_bill)"
   ]
  }
 ],
 "metadata": {
  "kernelspec": {
   "display_name": "Python 3",
   "language": "python",
   "name": "python3"
  },
  "language_info": {
   "codemirror_mode": {
    "name": "ipython",
    "version": 3
   },
   "file_extension": ".py",
   "mimetype": "text/x-python",
   "name": "python",
   "nbconvert_exporter": "python",
   "pygments_lexer": "ipython3",
   "version": "3.11.4"
  },
  "orig_nbformat": 4
 },
 "nbformat": 4,
 "nbformat_minor": 2
}
