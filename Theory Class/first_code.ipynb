{
 "cells": [
  {
   "cell_type": "code",
   "execution_count": 1,
   "id": "5ee85bee",
   "metadata": {},
   "outputs": [
    {
     "name": "stdout",
     "output_type": "stream",
     "text": [
      "Hello! My name is Mubashir\n"
     ]
    }
   ],
   "source": [
    "print(\"Hello! My name is Mubashir\")"
   ]
  },
  {
   "cell_type": "code",
   "execution_count": 2,
   "id": "3080a091",
   "metadata": {},
   "outputs": [
    {
     "name": "stdout",
     "output_type": "stream",
     "text": [
      "167\n"
     ]
    }
   ],
   "source": [
    "a=34\n",
    "b=65\n",
    "c=68\n",
    "print(a+b+c)"
   ]
  },
  {
   "cell_type": "code",
   "execution_count": 3,
   "id": "6d52b226",
   "metadata": {},
   "outputs": [
    {
     "name": "stdout",
     "output_type": "stream",
     "text": [
      "0\n",
      "1\n",
      "2\n",
      "3\n",
      "4\n",
      "5\n",
      "6\n",
      "7\n",
      "8\n",
      "9\n",
      "10\n",
      "11\n",
      "12\n",
      "13\n",
      "14\n",
      "15\n",
      "16\n",
      "17\n",
      "18\n",
      "19\n",
      "20\n",
      "21\n",
      "22\n",
      "23\n",
      "24\n",
      "25\n",
      "26\n",
      "27\n",
      "28\n",
      "29\n",
      "30\n",
      "31\n",
      "32\n",
      "33\n",
      "34\n",
      "35\n",
      "36\n",
      "37\n",
      "38\n",
      "39\n",
      "40\n",
      "41\n",
      "42\n",
      "43\n",
      "44\n",
      "45\n",
      "46\n",
      "47\n",
      "48\n",
      "49\n",
      "50\n",
      "51\n",
      "52\n",
      "53\n",
      "54\n",
      "55\n",
      "56\n",
      "57\n",
      "58\n",
      "59\n",
      "60\n",
      "61\n",
      "62\n",
      "63\n",
      "64\n",
      "65\n",
      "66\n",
      "67\n",
      "68\n",
      "69\n",
      "70\n",
      "71\n",
      "72\n",
      "73\n",
      "74\n",
      "75\n",
      "76\n",
      "77\n",
      "78\n",
      "79\n",
      "80\n",
      "81\n",
      "82\n",
      "83\n",
      "84\n",
      "85\n",
      "86\n",
      "87\n",
      "88\n",
      "89\n",
      "90\n",
      "91\n",
      "92\n",
      "93\n",
      "94\n",
      "95\n",
      "96\n",
      "97\n",
      "98\n",
      "99\n",
      "100\n"
     ]
    }
   ],
   "source": [
    "# Print 1 to 100 numbers\n",
    "for i in range(100+1):\n",
    "    print(i)"
   ]
  },
  {
   "cell_type": "code",
   "execution_count": 4,
   "id": "0e28c841",
   "metadata": {},
   "outputs": [
    {
     "ename": "ValueError",
     "evalue": "invalid literal for int() with base 10: ''",
     "output_type": "error",
     "traceback": [
      "\u001b[1;31m---------------------------------------------------------------------------\u001b[0m",
      "\u001b[1;31mValueError\u001b[0m                                Traceback (most recent call last)",
      "\u001b[1;32mc:\\Users\\Mubashir\\Desktop\\MSDS - Python\\Jupyter\\first_code.ipynb Cell 4\u001b[0m line \u001b[0;36m2\n\u001b[0;32m      <a href='vscode-notebook-cell:/c%3A/Users/Mubashir/Desktop/MSDS%20-%20Python/Jupyter/first_code.ipynb#W3sZmlsZQ%3D%3D?line=0'>1</a>\u001b[0m \u001b[39m# Check the number is even or odd\u001b[39;00m\n\u001b[1;32m----> <a href='vscode-notebook-cell:/c%3A/Users/Mubashir/Desktop/MSDS%20-%20Python/Jupyter/first_code.ipynb#W3sZmlsZQ%3D%3D?line=1'>2</a>\u001b[0m num \u001b[39m=\u001b[39m \u001b[39mint\u001b[39;49m(\u001b[39minput\u001b[39;49m(\u001b[39m\"\u001b[39;49m\u001b[39mEnter a number : \u001b[39;49m\u001b[39m\"\u001b[39;49m))\n\u001b[0;32m      <a href='vscode-notebook-cell:/c%3A/Users/Mubashir/Desktop/MSDS%20-%20Python/Jupyter/first_code.ipynb#W3sZmlsZQ%3D%3D?line=2'>3</a>\u001b[0m \u001b[39mprint\u001b[39m(\u001b[39mtype\u001b[39m(num))\n\u001b[0;32m      <a href='vscode-notebook-cell:/c%3A/Users/Mubashir/Desktop/MSDS%20-%20Python/Jupyter/first_code.ipynb#W3sZmlsZQ%3D%3D?line=4'>5</a>\u001b[0m \u001b[39mif\u001b[39;00m num\u001b[39m%\u001b[39m\u001b[39m2\u001b[39m \u001b[39m==\u001b[39m \u001b[39m0\u001b[39m:\n",
      "\u001b[1;31mValueError\u001b[0m: invalid literal for int() with base 10: ''"
     ]
    }
   ],
   "source": [
    "# Check the number is even or odd\n",
    "num = int(input(\"Enter a number : \"))\n",
    "print(type(num))\n",
    "\n",
    "if num%2 == 0:\n",
    "    print(\"Number you have entered is EVEN\")\n",
    "else :\n",
    "    print(\"Number you have entered is ODD\")"
   ]
  },
  {
   "cell_type": "code",
   "execution_count": null,
   "id": "1511179b",
   "metadata": {},
   "outputs": [],
   "source": [
    "# Write a program to print a name 'n' times (name and n will be user inputs)\n",
    "\n",
    "\n",
    "name = str(input(\"Enter the name : \"))\n",
    "num = int(input(f\"How many times you want to print {name} : \"))\n",
    "for i in range(1,num + 1):\n",
    "    print(name)\n"
   ]
  },
  {
   "cell_type": "code",
   "execution_count": null,
   "id": "95d0486d",
   "metadata": {},
   "outputs": [],
   "source": [
    "name = input(\"Enter the name : \")\n",
    "num = int(input(f\"How many times you want to print {name} : \"))\n",
    "print()"
   ]
  },
  {
   "cell_type": "code",
   "execution_count": null,
   "id": "de1ef84e",
   "metadata": {},
   "outputs": [],
   "source": [
    "num=int(input(\"Enter the day number :\"))\n",
    "if num==1:\n",
    "    print(\"Sunday\")\n",
    "elif num==2:\n",
    "    print(\"Monday\")\n",
    "elif num==3:\n",
    "    print(\"Tuesday\")\n",
    "elif num==4:\n",
    "    print(\"Wednesday\")\n",
    "elif num==5:\n",
    "    print(\"Thursday\")\n",
    "elif num==6:\n",
    "    print(\"Friday\")\n",
    "elif num==7:\n",
    "    print(\"Saturday\")"
   ]
  },
  {
   "cell_type": "code",
   "execution_count": null,
   "metadata": {},
   "outputs": [],
   "source": [
    "#index (string index start from 0,1,2....)\n",
    "msg=(\"Mubashir\")\n",
    "print(msg[1]) #var[i] - this is the syntax of index\n",
    "print(len(msg))\n",
    "print( )\n",
    "for i in msg:\n",
    "    print(i)"
   ]
  },
  {
   "cell_type": "code",
   "execution_count": null,
   "id": "1ce44b43",
   "metadata": {},
   "outputs": [],
   "source": [
    "#Looping\n",
    "msg=['Mubashir','Aman','Anurag','Vedant']\n",
    "for i in msg[3]:\n",
    "    for y in i:\n",
    "        print(y)"
   ]
  },
  {
   "cell_type": "code",
   "execution_count": null,
   "id": "e695c5d9",
   "metadata": {},
   "outputs": [],
   "source": [
    "\n",
    "msg=['Mubashir','Aman','Anurag','Vedant']\n",
    "print(msg[3][5])"
   ]
  },
  {
   "cell_type": "code",
   "execution_count": null,
   "id": "b8d05943",
   "metadata": {},
   "outputs": [],
   "source": [
    "#Use Split\n",
    "sen = ('Myself Mubashir Salim, I am from himachal')\n",
    "rem = sen.replace(',',\"\") # I remove the , because it is also coming as a list\n",
    "split = rem.split(' ')\n",
    "print(split)"
   ]
  },
  {
   "cell_type": "code",
   "execution_count": null,
   "id": "c893ae01",
   "metadata": {},
   "outputs": [],
   "source": [
    "\n",
    "username = input(\"Enter your username: \")\n",
    "password = input(\"Enter your password: \")\n",
    "print(f\"Your password is: {password} and your username is: {username}\")"
   ]
  },
  {
   "cell_type": "code",
   "execution_count": null,
   "id": "a4e9a2d1",
   "metadata": {},
   "outputs": [],
   "source": [
    "#use of .format()\n",
    "username = input(\"Enter your username: \")\n",
    "password = input(\"Enter your password: \")\n",
    "print(\"Your password is: {} and your username is: {}\".format(username,password))"
   ]
  },
  {
   "cell_type": "code",
   "execution_count": null,
   "id": "08d3327c",
   "metadata": {},
   "outputs": [],
   "source": [
    "# find the sum of n multiples of 2 where n is user input\n",
    "n = int(input('Enter number of multiple of 2: '))\n",
    "sum=0\n",
    "for i in range(2,n,2):\n",
    "    print(i)\n",
    "    sum=sum+i\n",
    "print(sum)\n",
    "\n"
   ]
  },
  {
   "cell_type": "code",
   "execution_count": null,
   "id": "98d7872b",
   "metadata": {},
   "outputs": [],
   "source": [
    "#List\n",
    "students=['one','two','three','four']\n",
    "print(students)\n",
    "print(students[3])\n",
    "\n",
    "#search sin list\n",
    "if 'three' in students:\n",
    "    print('success')\n",
    "\n",
    "#add element in list\n",
    "students.append('five')\n",
    "print(students)                          # if i run append in another cell it will add item to the list number of time i run that cell\n",
    "\n",
    "#remove item from list                   # it will remove index\n",
    "students.pop()\n",
    "print(students)                          #if i run pop in another cell it will add item to the list number of time i run that cell\n",
    "\n",
    "#remove item usimg remove()              # it will remove particular item from list\n",
    "students.remove('one')                 \n",
    "print(students)"
   ]
  },
  {
   "cell_type": "code",
   "execution_count": null,
   "id": "d10af551",
   "metadata": {},
   "outputs": [],
   "source": [
    "#sort\n",
    "students.sort()\n",
    "print(students)\n",
    "\n",
    "#reverse\n",
    "students.reverse()\n",
    "print(students)"
   ]
  },
  {
   "cell_type": "code",
   "execution_count": null,
   "id": "a89ff48a",
   "metadata": {},
   "outputs": [],
   "source": [
    "# FUNCTION\n",
    "def fname():\n",
    "    print('I am your first function :')\n",
    "\n",
    "# we have to call function to execute it\n",
    "fname()"
   ]
  },
  {
   "cell_type": "code",
   "execution_count": null,
   "id": "5261d010",
   "metadata": {},
   "outputs": [],
   "source": [
    "# FUNCTION with return\n",
    "def fname():\n",
    "    print('I am your first function :')\n",
    "    retval = 'success'\n",
    "    return retval\n",
    "\n",
    "# we have to call function to execute it\n",
    "status = fname()\n",
    "print(status)"
   ]
  },
  {
   "cell_type": "code",
   "execution_count": null,
   "id": "4ced03c2",
   "metadata": {},
   "outputs": [],
   "source": [
    "# FUNCTION with return (multiple variable)\n",
    "def fname():\n",
    "    print('I am your first function :')\n",
    "    retval = 'success'\n",
    "    return retval, True\n",
    "\n",
    "# we have to call function to execute it\n",
    "status, flag = fname()                        # status and flag are variable name (pre-defined)\n",
    "print(status, flag)"
   ]
  },
  {
   "cell_type": "code",
   "execution_count": null,
   "id": "ba90e499",
   "metadata": {},
   "outputs": [],
   "source": [
    "# Define a function that takes in list of numbers & return sum of numbers without any predefined function\n",
    "\n",
    "def listfn(lst):\n",
    "    sum=0\n",
    "    for item in lst:\n",
    "        sum = sum + item\n",
    "    return  sum\n",
    "\n",
    "lst = [10,20,30,40,50,60]\n",
    "\n",
    "print(listfn(lst))"
   ]
  },
  {
   "cell_type": "code",
   "execution_count": null,
   "id": "8c01e662",
   "metadata": {},
   "outputs": [],
   "source": [
    "# Define a function that takes in list of numbers as INPUT & return sum of numbers without any predefined function\n",
    "\n",
    "def listfn(lst):\n",
    "    sum = 0\n",
    "    for item in lst:\n",
    "        sum = sum + item\n",
    "    return sum\n",
    "\n",
    "ls_input = input('Enter a list of numbers separated by commas: ')\n",
    "ls = [int(x) for x in ls_input.split(',')]\n",
    "print(ls)\n",
    "\n",
    "print(listfn(ls))\n"
   ]
  },
  {
   "cell_type": "code",
   "execution_count": null,
   "id": "4de0d7cf",
   "metadata": {},
   "outputs": [],
   "source": [
    "\n",
    "def lis(lists):\n",
    "    sum = 0\n",
    "    for i in range(len(lists)):\n",
    "        sum = sum + lists[i]\n",
    "    return sum\n",
    "    \n",
    "liso = [1,2,4]\n",
    "print(lis(liso))    \n"
   ]
  },
  {
   "cell_type": "code",
   "execution_count": null,
   "id": "bd0e6a89",
   "metadata": {},
   "outputs": [],
   "source": [
    "for item in range(0,len(lst),1):\n",
    "    print(lst[item])"
   ]
  },
  {
   "cell_type": "code",
   "execution_count": null,
   "id": "d326d14b",
   "metadata": {},
   "outputs": [],
   "source": [
    "# make a function take input of name and print that name 10 times\n",
    "\n",
    "nm=input('Enter your name: ')\n",
    "\n",
    "def name10(nm):\n",
    "    for i in range(1,10):\n",
    "        print(nm)\n",
    "    return 0\n",
    "\n",
    "print(name10(nm))\n"
   ]
  },
  {
   "cell_type": "markdown",
   "id": "92942637",
   "metadata": {},
   "source": [
    "File Handling"
   ]
  },
  {
   "cell_type": "code",
   "execution_count": null,
   "id": "0bda0fc8",
   "metadata": {},
   "outputs": [],
   "source": [
    "file=open(\"sample.txt\",\"w+\")"
   ]
  },
  {
   "cell_type": "code",
   "execution_count": null,
   "id": "5b9bdcc0",
   "metadata": {},
   "outputs": [],
   "source": [
    "file.write(\"This is my first time to file from python.\\n This is second line\")"
   ]
  },
  {
   "cell_type": "code",
   "execution_count": null,
   "id": "0d0a4b2f",
   "metadata": {},
   "outputs": [],
   "source": [
    "file.close()"
   ]
  },
  {
   "cell_type": "markdown",
   "id": "ded2e8cf",
   "metadata": {},
   "source": [
    "Write a function in python that accepts your dfetails and save it into file with your name."
   ]
  },
  {
   "cell_type": "code",
   "execution_count": null,
   "id": "c5ce2e53",
   "metadata": {},
   "outputs": [],
   "source": [
    "def saveDetails(name, email, phone):\n",
    "    filename= name + 'txt'\n",
    "    with open(filename,'w+') as file:\n",
    "        file.write('Name\\t:\\t'+name)\n",
    "        file.write('\\nEmail\\t:\\t'+email)\n",
    "        file.write('\\nPhone\\t:\\t'+phone)\n",
    "\n",
    "user_name=input('Enter name: ')\n",
    "user_email=input('Enter Email: ')\n",
    "user_phone=input('Enter phone no.: ')\n",
    "saveDetails(user_name, user_email, user_phone)\n"
   ]
  },
  {
   "cell_type": "markdown",
   "id": "829707f5",
   "metadata": {},
   "source": [
    "Write a python program that will take two operands and an operator and performs the calculation and gives the result. Also save the calculations that your program perform in a file."
   ]
  },
  {
   "cell_type": "code",
   "execution_count": null,
   "id": "a2d528c7",
   "metadata": {},
   "outputs": [],
   "source": [
    "user_operands_1 = int(input(\"Enter 1st operand: \"))\n",
    "user_operands_2 = int(input(\"Enter 2nd operand: \"))\n",
    "user_operator = input('Enter operator: ')\n",
    "\n",
    "if user_operator == '+' :\n",
    "     calculation = user_operands_1 + user_operands_2\n",
    "elif user_operator == '-':\n",
    "     calculation = user_operands_1 - user_operands_2\n",
    "elif user_operator == '*':\n",
    "     calculation = user_operands_1 * user_operands_2\n",
    "elif user_operator == '/':\n",
    "     calculation = user_operands_1 / user_operands_2\n",
    "else :\n",
    "     print('Error')\n",
    "print(calculation)"
   ]
  },
  {
   "cell_type": "code",
   "execution_count": 5,
   "id": "e7581323",
   "metadata": {},
   "outputs": [
    {
     "name": "stdout",
     "output_type": "stream",
     "text": [
      "0 0\n",
      "1 1\n",
      "2 4\n",
      "3 9\n",
      "4 16\n",
      "5 25\n",
      "6 36\n"
     ]
    }
   ],
   "source": [
    "#WHILE\n",
    "\n",
    "a=0\n",
    "while a<7:\n",
    "    res = a * a\n",
    "    print(a,res)\n",
    "    a = a + 1"
   ]
  },
  {
   "cell_type": "code",
   "execution_count": 8,
   "id": "69b2b6a4",
   "metadata": {},
   "outputs": [
    {
     "name": "stdout",
     "output_type": "stream",
     "text": [
      "1\n",
      "2\n",
      "3\n",
      "4\n",
      "5\n",
      "6\n"
     ]
    }
   ],
   "source": [
    "# BREAK, CONTINUE\n",
    "\n",
    "for i in range(1,10):\n",
    "    if i == 7:\n",
    "        break\n",
    "    print(i)"
   ]
  },
  {
   "cell_type": "code",
   "execution_count": 10,
   "id": "b1ecbad4",
   "metadata": {},
   "outputs": [
    {
     "name": "stdout",
     "output_type": "stream",
     "text": [
      "1\n",
      "2\n",
      "3\n",
      "4\n",
      "5\n",
      "6\n",
      "8\n",
      "9\n"
     ]
    }
   ],
   "source": [
    "# BREAK, CONTINUE\n",
    "\n",
    "for i in range(1,10):\n",
    "    if i == 7:\n",
    "        continue\n",
    "    print(i)"
   ]
  },
  {
   "cell_type": "code",
   "execution_count": 13,
   "id": "02541ad1",
   "metadata": {},
   "outputs": [
    {
     "name": "stdout",
     "output_type": "stream",
     "text": [
      "{'CDF', 'MNO', 'ABC', 'XYZ'}\n",
      "['CDF', 'MNO', 'ABC', 'XYZ']\n"
     ]
    }
   ],
   "source": [
    "list_ex = ['ABC','ABC','CDF','XYZ','MNO']\n",
    "set_ex = set(list_ex)\n",
    "print(set_ex)\n",
    "back = list(set_ex)\n",
    "print(back)"
   ]
  },
  {
   "cell_type": "markdown",
   "id": "695535f5",
   "metadata": {},
   "source": [
    "Create a list of 10 names that are random and repeating from the user. Identify the unique items and their count"
   ]
  },
  {
   "cell_type": "code",
   "execution_count": 18,
   "id": "86500c95",
   "metadata": {},
   "outputs": [
    {
     "name": "stdout",
     "output_type": "stream",
     "text": [
      "['mubashir', 'aabha', 'mubashir', 'aman', 'dheeraj', 'aman', 'aabha', 'anurag', 'vedant']\n",
      "{'dheeraj', 'aabha', 'anurag', 'aman', 'mubashir', 'vedant'}\n",
      "dheeraj 1\n",
      "aabha 2\n",
      "anurag 1\n",
      "aman 2\n",
      "mubashir 2\n",
      "vedant 1\n"
     ]
    }
   ],
   "source": [
    "names = []\n",
    "for i in range(1,10,1):\n",
    "    name = input('Enter name: ')\n",
    "    names.append(name)\n",
    "print(names)\n",
    "\n",
    "unique_names = set(names)\n",
    "print(unique_names)\n",
    "\n",
    "for search in unique_names:\n",
    "    count = 0\n",
    "    for item in names:\n",
    "        if search == item:\n",
    "            count = count + 1\n",
    "    print(search,count)"
   ]
  },
  {
   "cell_type": "markdown",
   "id": "0579e1d4",
   "metadata": {},
   "source": [
    "DICTONARIES"
   ]
  },
  {
   "cell_type": "code",
   "execution_count": 5,
   "id": "52f5d608",
   "metadata": {},
   "outputs": [
    {
     "name": "stdout",
     "output_type": "stream",
     "text": [
      "{'Name': 'Mubashir Salim', 'Phone': 7018840330, 'Email': 'mubashirsalim88@gmail.com'}\n",
      "Mubashir Salim\n"
     ]
    }
   ],
   "source": [
    "my_dict = {\n",
    "    \"Name\" : \"Mubashir Salim\",\n",
    "    \"Phone\" : 7018840330,\n",
    "    \"Email\" : \"mubashirsalim88@gmail.com\",\n",
    "}\n",
    "\n",
    "print(my_dict)\n",
    "print(my_dict[\"Name\"])"
   ]
  },
  {
   "cell_type": "code",
   "execution_count": 6,
   "id": "261fc5b1",
   "metadata": {},
   "outputs": [],
   "source": [
    "my_dict[\"Address\"] = \"Dinak, Sundernagar, Mandi, 175019\""
   ]
  },
  {
   "cell_type": "code",
   "execution_count": 7,
   "id": "97d3a99c",
   "metadata": {},
   "outputs": [
    {
     "name": "stdout",
     "output_type": "stream",
     "text": [
      "{'Name': 'Mubashir Salim', 'Phone': 7018840330, 'Email': 'mubashirsalim88@gmail.com', 'Address': 'Dinak, Sundernagar, Mandi, 175019'}\n"
     ]
    }
   ],
   "source": [
    "print(my_dict)"
   ]
  },
  {
   "cell_type": "code",
   "execution_count": 8,
   "id": "469a8698",
   "metadata": {},
   "outputs": [
    {
     "ename": "KeyError",
     "evalue": "'krufucb'",
     "output_type": "error",
     "traceback": [
      "\u001b[1;31m---------------------------------------------------------------------------\u001b[0m",
      "\u001b[1;31mKeyError\u001b[0m                                  Traceback (most recent call last)",
      "\u001b[1;32mc:\\Users\\Mubashir\\Desktop\\MSDS - Python\\Jupyter\\first_code.ipynb Cell 43\u001b[0m line \u001b[0;36m1\n\u001b[1;32m----> <a href='vscode-notebook-cell:/c%3A/Users/Mubashir/Desktop/MSDS%20-%20Python/Jupyter/first_code.ipynb#X61sZmlsZQ%3D%3D?line=0'>1</a>\u001b[0m \u001b[39mprint\u001b[39m(my_dict[\u001b[39m\"\u001b[39;49m\u001b[39mkrufucb\u001b[39;49m\u001b[39m\"\u001b[39;49m])\n",
      "\u001b[1;31mKeyError\u001b[0m: 'krufucb'"
     ]
    }
   ],
   "source": [
    "print(my_dict[\"krufucb\"])"
   ]
  },
  {
   "cell_type": "code",
   "execution_count": 9,
   "id": "f1a6f4a4",
   "metadata": {},
   "outputs": [
    {
     "data": {
      "text/plain": [
       "dict_values(['Mubashir Salim', 7018840330, 'mubashirsalim88@gmail.com', 'Dinak, Sundernagar, Mandi, 175019'])"
      ]
     },
     "execution_count": 9,
     "metadata": {},
     "output_type": "execute_result"
    }
   ],
   "source": [
    "my_dict.values()"
   ]
  },
  {
   "cell_type": "code",
   "execution_count": 11,
   "id": "c9030b93",
   "metadata": {},
   "outputs": [
    {
     "name": "stdout",
     "output_type": "stream",
     "text": [
      "dict_keys(['Name', 'Phone', 'Email', 'Address'])\n",
      "Name\n",
      "Phone\n",
      "Email\n",
      "Address\n"
     ]
    }
   ],
   "source": [
    "print(my_dict.keys())\n",
    "for key in my_dict.keys():\n",
    "    print(key)"
   ]
  },
  {
   "cell_type": "code",
   "execution_count": 26,
   "id": "c27537c4",
   "metadata": {},
   "outputs": [
    {
     "name": "stdout",
     "output_type": "stream",
     "text": [
      "C\n"
     ]
    }
   ],
   "source": [
    "students = {\n",
    "    \"Names\" : [\"A\", \"B\", \"C\", \"D\"],\n",
    "    \"Roll_no\" : [1,2,3,4],\n",
    "}\n",
    "for i in students[\"Names\"][2]:\n",
    "    print(i)"
   ]
  },
  {
   "cell_type": "code",
   "execution_count": 28,
   "id": "405a6396",
   "metadata": {},
   "outputs": [],
   "source": [
    "msds = [\n",
    "    {\n",
    "        \"Rollnumber\" : 23122124,\n",
    "        \"Name\" : \"Mubashir Salim\",\n",
    "        \"Phone\" : 7018840330,\n",
    "    },\n",
    "    {\n",
    "         \"Rollnumber\" : 23122108,\n",
    "        \"Name\" : \"Anurag Yadav\",\n",
    "        \"Phone\" : 7018840320,\n",
    "    },\n",
    "    {\n",
    "         \"Rollnumber\" : 23122141,\n",
    "        \"Name\" : \"Vedant Nehal\",\n",
    "        \"Phone\" : 7018840310,\n",
    "    },\n",
    "    {\n",
    "         \"Rollnumber\" : 23122105,\n",
    "        \"Name\" : \"Aman Singh\",\n",
    "        \"Phone\" : 7018840300,\n",
    "    }\n",
    "]"
   ]
  },
  {
   "cell_type": "code",
   "execution_count": 29,
   "id": "4297b508",
   "metadata": {},
   "outputs": [
    {
     "name": "stdout",
     "output_type": "stream",
     "text": [
      "[{'Rollnumber': 23122124, 'Name': 'Mubashir Salim', 'Phone': 7018840330}, {'Rollnumber': 23122108, 'Name': 'Anurag Yadav', 'Phone': 7018840320}, {'Rollnumber': 23122141, 'Name': 'Vedant Nehal', 'Phone': 7018840310}, {'Rollnumber': 23122105, 'Name': 'Aman Singh', 'Phone': 7018840300}]\n"
     ]
    }
   ],
   "source": [
    "print(msds)"
   ]
  },
  {
   "cell_type": "code",
   "execution_count": 34,
   "id": "96b18781",
   "metadata": {},
   "outputs": [
    {
     "name": "stdout",
     "output_type": "stream",
     "text": [
      "{'Rollnumber': 23122124, 'Name': 'Mubashir Salim', 'Phone': 7018840330}\n",
      "23122124\tMubashir Salim\t7018840330\t\n",
      "{'Rollnumber': 23122108, 'Name': 'Anurag Yadav', 'Phone': 7018840320}\n",
      "23122108\tAnurag Yadav\t7018840320\t\n",
      "{'Rollnumber': 23122141, 'Name': 'Vedant Nehal', 'Phone': 7018840310}\n",
      "23122141\tVedant Nehal\t7018840310\t\n",
      "{'Rollnumber': 23122105, 'Name': 'Aman Singh', 'Phone': 7018840300}\n",
      "23122105\tAman Singh\t7018840300\t\n"
     ]
    }
   ],
   "source": [
    "for students in msds:\n",
    "    print(students)\n",
    "    for key in students.keys():\n",
    "        print(students[key],end='\\t')\n",
    "    print()"
   ]
  },
  {
   "cell_type": "code",
   "execution_count": null,
   "id": "5bc2b742",
   "metadata": {},
   "outputs": [],
   "source": []
  }
 ],
 "metadata": {
  "kernelspec": {
   "display_name": "Python 3 (ipykernel)",
   "language": "python",
   "name": "python3"
  },
  "language_info": {
   "codemirror_mode": {
    "name": "ipython",
    "version": 3
   },
   "file_extension": ".py",
   "mimetype": "text/x-python",
   "name": "python",
   "nbconvert_exporter": "python",
   "pygments_lexer": "ipython3",
   "version": "3.11.5"
  }
 },
 "nbformat": 4,
 "nbformat_minor": 5
}
